{
 "cells": [
  {
   "cell_type": "code",
   "execution_count": 1,
   "metadata": {},
   "outputs": [
    {
     "name": "stderr",
     "output_type": "stream",
     "text": [
      "C:\\Users\\anand\\AppData\\Roaming\\Python\\Python310\\site-packages\\scipy\\__init__.py:146: UserWarning: A NumPy version >=1.17.3 and <1.25.0 is required for this version of SciPy (detected version 1.26.3\n",
      "  warnings.warn(f\"A NumPy version >={np_minversion} and <{np_maxversion}\"\n"
     ]
    },
    {
     "name": "stdout",
     "output_type": "stream",
     "text": [
      "Accuracy: 80.00%\n",
      "F1 Score: 0.75\n",
      "Confusion Matrix:\n",
      "[[10  0]\n",
      " [ 4  6]]\n",
      "Precision: 1.0\n",
      "Precision: 100.00%\n"
     ]
    }
   ],
   "source": [
    "import numpy as np\n",
    "import itertools\n",
    "import pandas as pd\n",
    "from sklearn.metrics import accuracy_score, f1_score, roc_auc_score, confusion_matrix,precision_score, recall_score\n",
    "\n",
    "#Generating dataset\n",
    "# Define the set of digits (0 and 1)\n",
    "digits = ['0', '1']\n",
    "\n",
    "# Generate all possible combinations\n",
    "combinations = list(itertools.product(digits, repeat=10))\n",
    "\n",
    "# Convert the tuples to strings for better readability\n",
    "combinations = [''.join(combination) for combination in combinations]\n",
    "\n",
    "# Create a DataFrame\n",
    "df_final = pd.DataFrame({'combinations': combinations})\n",
    "\n",
    "# Add a column for the target values (0 or 1)\n",
    "df_final['target'] = df_final['combinations'].apply(lambda x: 0 if x != x[::-1] else 1)\n",
    "\n",
    "# Print the DataFrame\n",
    "# print(df_final)\n",
    "\n",
    "#Splitting dataset into train and test dataset\n",
    "# Randomly select 500 rows with target=1\n",
    "df_target_1_sampled = df_final[df_final['target'] == 1].sample(n=10, random_state=42)\n",
    "\n",
    "# Randomly select 500 rows with target=0\n",
    "df_target_0_sampled = df_final[df_final['target'] == 0].sample(n=10, random_state=42)\n",
    "\n",
    "# Combine the sampled dataframes\n",
    "final_sampled_dataframe = pd.concat([df_target_1_sampled, df_target_0_sampled])\n",
    "\n",
    "# Extract the indices of the sampled rows\n",
    "sampled_indices = final_sampled_dataframe.index\n",
    "\n",
    "# Create a dataframe with the remaining rows (not part of the sampled rows)\n",
    "df_remaining_rows = df_final[~df_final.index.isin(sampled_indices)]\n",
    "\n",
    "# Display the shapes of the final sampled dataframe and the dataframe with remaining rows\n",
    "# print(\"Final sampled dataframe shape:\", final_sampled_dataframe.shape)\n",
    "# print(\"Remaining rows dataframe shape:\", df_remaining_rows.shape)\n",
    "\n",
    "# Shuffle the rows in final_sampled_dataframe\n",
    "shuffled_final_sampled_dataframe = final_sampled_dataframe.sample(frac=1.0, random_state=42)\n",
    "\n",
    "# Display the first few rows of the shuffled dataframe\n",
    "# print(shuffled_final_sampled_dataframe.head())\n",
    "\n",
    "# Shuffle the values in df_remaining_rows\n",
    "df_remaining_rows_shuffled = df_remaining_rows.sample(frac=1, random_state=42)\n",
    "\n",
    "df_remaining_rows_shuffled\n",
    "\n",
    "# Assuming df_remaining_rows and final_sampled_dataframe are the dataframes from the previous code\n",
    "\n",
    "# Extract features and target from df_remaining_rows\n",
    "X_train = df_remaining_rows_shuffled.drop('target', axis=1)\n",
    "y_train_final = df_remaining_rows_shuffled['target']\n",
    "\n",
    "# Extract features and target from final_sampled_dataframe\n",
    "X_test = shuffled_final_sampled_dataframe.drop('target', axis=1)\n",
    "y_test_final = shuffled_final_sampled_dataframe['target']\n",
    "\n",
    "# Display the shapes of the extracted sets\n",
    "# print(\"X_train shape:\", X_train.shape, \"y_train shape:\", y_train_final.shape)\n",
    "# print(\"X_test shape:\", X_test.shape, \"y_test shape:\", y_test_final.shape)\n",
    "\n",
    "\n",
    "X_train_final = np.array([list(map(int, str(row))) for row in X_train['combinations']])\n",
    "X_test_final = np.array([list(map(int, str(row))) for row in X_test['combinations']])\n",
    "\n",
    "# Check the shape\n",
    "# print(X_test_final.shape)  # Output: (1004, 10)\n",
    "\n",
    "# Convert to 2D array\n",
    "y_train_final = y_train_final.values.reshape(-1, 1)  # Using values attribute and reshape\n",
    "y_test_final = y_test_final.values.reshape(-1, 1)  # Using values attribute and reshape\n",
    "\n",
    "\n",
    "# Print the shape of the resulting array\n",
    "# print(y_test_final.shape)\n",
    "\n",
    "#Transforming X,y for trainable values\n",
    "X = X_train_final.T\n",
    "Y = y_train_final.reshape(1, len(y_train_final))\n",
    "\n",
    "# print(X.shape)\n",
    "# print(Y.shape)\n",
    "\n",
    "X_test = X_test_final.T\n",
    "Y_test = y_test_final.reshape(1, len(y_test_final))\n",
    "\n",
    "# print(X_test.shape)\n",
    "# print(Y_test.shape)\n",
    "\n",
    "\n",
    "#Neural Network code\n",
    "def sigmoid(z):\n",
    "    sigmoid = 1 / (1 + np.exp(-z))\n",
    "    return sigmoid\n",
    "\n",
    "def tanh(z):\n",
    "    tan = (np.exp(z) - np.exp(-z)) / (np.exp(z) + np.exp(-z))\n",
    "    return tan\n",
    "\n",
    "def layer_sizes(X, Y):\n",
    "    n_x = X.shape[0]\n",
    "    n_h = 5\n",
    "    n_y = Y.shape[0]\n",
    "\n",
    "    return n_x, n_h, n_y\n",
    "\n",
    "def initialize_params(n_x, n_h, n_y):\n",
    "\n",
    "    W1 = np.random.randn(n_h, n_x) * 0.01\n",
    "    b1 = np.zeros((n_h, 1))\n",
    "    W2 = np.random.randn(n_y, n_h) * 0.01\n",
    "    b2 = np.zeros((n_y, 1))\n",
    "\n",
    "    return W1, b1, W2, b2\n",
    "\n",
    "def forward_propagation(X, W1, b1, W2, b2):\n",
    "    \n",
    "    Z1 = np.dot(W1, X) + b1\n",
    "    A1 = tanh(Z1)\n",
    "    Z2 = np.dot(W2, A1) + b2\n",
    "    A2 = sigmoid(Z2)\n",
    "\n",
    "    return Z1, A1, Z2, A2\n",
    "\n",
    "def compute_cost(Y, A2):\n",
    "\n",
    "    m = Y.shape[1]\n",
    "    cost = (-1/m) * np.sum(np.multiply(Y ,np.log(A2)) + np.multiply((1-Y), np.log(1-A2)))\n",
    "    cost = float(np.squeeze(cost))\n",
    "    return cost\n",
    "\n",
    "def backward_propagation(X, Y, W1, b1, W2, b2, Z1, A1, Z2, A2):\n",
    "    \n",
    "    m = X.shape[0] # Number of training examples\n",
    "\n",
    "    dZ2 = A2 - Y\n",
    "    dW2 = (1/m) * np.dot(dZ2, A1.T)\n",
    "    db2 = (1/m) * (np.sum(dZ2, axis = 1, keepdims = True))\n",
    "    \n",
    "    dZ1 = np.dot(W2.T, dZ2) * (1 - np.power(A1, 2))\n",
    "    dW1 = (1/m) * (np.dot(dZ1, X.T))\n",
    "    db1 = (1/m) * (np.sum(dZ1, axis = 1, keepdims = True))\n",
    "    \n",
    "    return dW1, db1, dW2, db2\n",
    "\n",
    "def update_params(W1, b1, W2, b2, dW1, db1, dW2, db2, learning_rate):\n",
    "\n",
    "    W1 = W1 - learning_rate * dW1\n",
    "    b1 = b1 - learning_rate * db1\n",
    "    W2 = W2 - learning_rate * dW2\n",
    "    b2 = b2 - learning_rate * db2\n",
    "\n",
    "    return W1, b1, W2, b2\n",
    "\n",
    "def neural_network(X, Y, n_h, learning_rate,param_list, num_iterations = 1000):\n",
    "    n_x = layer_sizes(X, Y)[0]\n",
    "    n_y = layer_sizes(X, Y)[2]\n",
    "    costs = []\n",
    "    # Initialize parameters\n",
    "    W1, b1, W2, b2 = initialize_params(n_x, n_h, n_y)\n",
    "\n",
    "    \n",
    "    # Loop (gradient descent)\n",
    "    for i in range(0, num_iterations):\n",
    "        Z1, A1, Z2, A2 = forward_propagation(X, W1, b1, W2, b2)\n",
    "        cost = compute_cost(Y, A2)\n",
    "        if i % 10 == 0:\n",
    "            costs.append(cost)\n",
    "        dW1, db1, dW2, db2 = backward_propagation(X, Y, W1, b1, W2, b2, Z1, A1, Z2, A2)\n",
    "        W1, b1, W2, b2 = update_params(W1, b1, W2, b2, dW1, db1, dW2, db2, learning_rate)\n",
    "        \n",
    "    params_to_append = [W1,b1,W2,b2] \n",
    "    param_list += params_to_append\n",
    "    return param_list, costs\n",
    "\n",
    "\n",
    "def predict(W1, b1, W2, b2, X):\n",
    "\n",
    "    Z1, A1, Z2, A2 = forward_propagation(X, W1, b1, W2, b2)\n",
    "\n",
    "    m = X.shape[1]\n",
    "    y_pred = np.zeros((1, m))\n",
    "    for i in range(A2.shape[1]):\n",
    "        if A2[0, i] >= 0.5:\n",
    "            y_pred[0, i] = 1\n",
    "        else:\n",
    "            y_pred[0, i] = 0\n",
    "\n",
    "    return y_pred\n",
    "\n",
    "param_list = []\n",
    "neural_network(X,Y,5,0.1,param_list,1000)\n",
    "\n",
    "final_prediction = predict(param_list[0],param_list[1],param_list[2],param_list[3],X_test,)\n",
    "final_y = final_prediction.T\n",
    "final_y.shape\n",
    "\n",
    "\n",
    "# Calculate accuracy on the test set\n",
    "accuracy = accuracy_score(y_test_final, final_y)\n",
    "print(f\"Accuracy: {accuracy * 100:.2f}%\")\n",
    "\n",
    "# Calculate F1 score on the test set\n",
    "f1 = f1_score(y_test_final, final_y)\n",
    "print(f\"F1 Score: {f1:.2f}\")\n",
    "\n",
    "# Generate and print confusion matrix\n",
    "conf_matrix = confusion_matrix(y_test_final, final_y)\n",
    "print(\"Confusion Matrix:\")\n",
    "print(conf_matrix)\n",
    "\n",
    "\n",
    "# Assuming y_test_final and final_y are your true labels and predicted labels respectively\n",
    "precision = precision_score(y_test_final, final_y)\n",
    "\n",
    "print(\"Precision:\", precision)\n",
    "print(f\"Precision: {precision * 100:.2f}%\")"
   ]
  },
  {
   "cell_type": "code",
   "execution_count": 3,
   "metadata": {},
   "outputs": [
    {
     "name": "stdout",
     "output_type": "stream",
     "text": [
      "y_pred: [[0.]\n",
      " [0.]\n",
      " [0.]\n",
      " [1.]\n",
      " [0.]\n",
      " [0.]\n",
      " [0.]\n",
      " [1.]\n",
      " [0.]\n",
      " [0.]\n",
      " [0.]\n",
      " [0.]\n",
      " [0.]\n",
      " [0.]\n",
      " [0.]\n",
      " [0.]\n",
      " [0.]\n",
      " [0.]\n",
      " [0.]\n",
      " [1.]]\n",
      "y: [[1]\n",
      " [0]\n",
      " [0]\n",
      " [1]\n",
      " [1]\n",
      " [1]\n",
      " [0]\n",
      " [1]\n",
      " [0]\n",
      " [0]\n",
      " [0]\n",
      " [1]\n",
      " [1]\n",
      " [0]\n",
      " [1]\n",
      " [0]\n",
      " [1]\n",
      " [0]\n",
      " [0]\n",
      " [1]]\n",
      "Accuracy: 65.00%\n",
      "F1 Score: 0.46\n",
      "Confusion Matrix:\n",
      "[[10  0]\n",
      " [ 7  3]]\n",
      "Precision: 1.0\n",
      "Precision: 100.00%\n",
      "Recall: 0.3\n",
      "Recall: 30.00%\n"
     ]
    }
   ],
   "source": [
    "import numpy as np\n",
    "import itertools\n",
    "import pandas as pd\n",
    "from sklearn.metrics import accuracy_score, f1_score, confusion_matrix, precision_score, recall_score\n",
    "\n",
    "# Generating dataset\n",
    "digits = ['0', '1']  \n",
    "combinations = list(itertools.product(digits, repeat=10))  \n",
    "combinations = [''.join(combination) for combination in combinations]  \n",
    "df_final = pd.DataFrame({'combinations': combinations})  \n",
    "df_final['target'] = df_final['combinations'].apply(lambda x: 0 if x != x[::-1] else 1)  \n",
    "\n",
    "# Splitting dataset into train and test dataset\n",
    "df_target_1_sampled = df_final[df_final['target'] == 1].sample(n=10, random_state=42)  \n",
    "df_target_0_sampled = df_final[df_final['target'] == 0].sample(n=10, random_state=42)  \n",
    "final_sampled_dataframe = pd.concat([df_target_1_sampled, df_target_0_sampled])  \n",
    "\n",
    "sampled_indices = final_sampled_dataframe.index  \n",
    "df_remaining_rows = df_final[~df_final.index.isin(sampled_indices)]  \n",
    "\n",
    "shuffled_final_sampled_dataframe = final_sampled_dataframe.sample(frac=1.0, random_state=42)  \n",
    "df_remaining_rows_shuffled = df_remaining_rows.sample(frac=1, random_state=42)  \n",
    "\n",
    "# Extract features and target from dataframes\n",
    "X_train = df_remaining_rows_shuffled.drop('target', axis=1)\n",
    "y_train_final = df_remaining_rows_shuffled['target']\n",
    "X_test = shuffled_final_sampled_dataframe.drop('target', axis=1)\n",
    "y_test_final = shuffled_final_sampled_dataframe['target']\n",
    "\n",
    "X_train_final = np.array([list(map(int, str(row))) for row in X_train['combinations']])  \n",
    "X_test_final = np.array([list(map(int, str(row))) for row in X_test['combinations']])  \n",
    "\n",
    "y_train_final = y_train_final.values.reshape(-1, 1)  \n",
    "y_test_final = y_test_final.values.reshape(-1, 1)  \n",
    "\n",
    "X = X_train_final.T  \n",
    "Y = y_train_final.reshape(1, len(y_train_final))  \n",
    "\n",
    "X_test = X_test_final.T  \n",
    "Y_test = y_test_final.reshape(1, len(y_test_final))  \n",
    "\n",
    "# Neural Network code\n",
    "def sigmoid(z):\n",
    "    return 1 / (1 + np.exp(-z))\n",
    "\n",
    "def layer_sizes(X, Y):\n",
    "    n_x = X.shape[0]\n",
    "    n_h = 5\n",
    "    n_y = Y.shape[0]\n",
    "    return n_x, n_h, n_y\n",
    "\n",
    "def initialize_params(n_x, n_h, n_y):\n",
    "    W1 = np.random.randn(n_h, n_x) * 0.01\n",
    "    b1 = np.zeros((n_h, 1))\n",
    "    W2 = np.random.randn(n_y, n_h) * 0.01\n",
    "    b2 = np.zeros((n_y, 1))\n",
    "    return W1, b1, W2, b2\n",
    "\n",
    "def forward_propagation(X, W1, b1, W2, b2):\n",
    "    Z1 = np.dot(W1, X) + b1\n",
    "    A1 = sigmoid(Z1)\n",
    "    Z2 = np.dot(W2, A1) + b2\n",
    "    A2 = sigmoid(Z2)\n",
    "    return Z1, A1, Z2, A2\n",
    "\n",
    "def compute_cost(Y, A2):\n",
    "    m = Y.shape[1]\n",
    "    cost = (-1/m) * np.sum(np.multiply(Y, np.log(A2)) + np.multiply((1-Y), np.log(1-A2)))\n",
    "    cost = float(np.squeeze(cost))\n",
    "    return cost\n",
    "\n",
    "def backward_propagation(X, Y, W1, b1, W2, b2, Z1, A1, Z2, A2):\n",
    "    m = X.shape[0]  \n",
    "    dZ2 = A2 - Y\n",
    "    dW2 = (1/m) * np.dot(dZ2, A1.T)\n",
    "    db2 = (1/m) * np.sum(dZ2, axis=1, keepdims=True)\n",
    "    dZ1 = np.dot(W2.T, dZ2) * (A1 * (1 - A1))  # derivative of sigmoid\n",
    "    dW1 = (1/m) * np.dot(dZ1, X.T)\n",
    "    db1 = (1/m) * np.sum(dZ1, axis=1, keepdims=True)\n",
    "    return dW1, db1, dW2, db2\n",
    "\n",
    "def update_params(W1, b1, W2, b2, dW1, db1, dW2, db2, learning_rate):\n",
    "    W1 = W1 - learning_rate * dW1\n",
    "    b1 = b1 - learning_rate * db1\n",
    "    W2 = W2 - learning_rate * dW2\n",
    "    b2 = b2 - learning_rate * db2\n",
    "    return W1, b1, W2, b2\n",
    "\n",
    "def neural_network(X, Y, n_h, learning_rate, param_list, num_iterations=1000):\n",
    "    n_x = layer_sizes(X, Y)[0]\n",
    "    n_y = layer_sizes(X, Y)[2]\n",
    "    costs = []\n",
    "    W1, b1, W2, b2 = initialize_params(n_x, n_h, n_y)  \n",
    "    for i in range(num_iterations):  \n",
    "        Z1, A1, Z2, A2 = forward_propagation(X, W1, b1, W2, b2)\n",
    "        cost = compute_cost(Y, A2)\n",
    "        if i % 10 == 0:\n",
    "            costs.append(cost)\n",
    "        dW1, db1, dW2, db2 = backward_propagation(X, Y, W1, b1, W2, b2, Z1, A1, Z2, A2)\n",
    "        W1, b1, W2, b2 = update_params(W1, b1, W2, b2, dW1, db1, dW2, db2, learning_rate)\n",
    "    params_to_append = [W1, b1, W2, b2] \n",
    "    param_list += params_to_append\n",
    "    return param_list, costs\n",
    "\n",
    "def predict(W1, b1, W2, b2, X):\n",
    "    Z1, A1, Z2, A2 = forward_propagation(X, W1, b1, W2, b2)\n",
    "    m = X.shape[1]\n",
    "    y_pred = np.zeros((1, m))\n",
    "    for i in range(A2.shape[1]):\n",
    "        y_pred[0, i] = 1 if A2[0, i] >= 0.5 else 0\n",
    "    return y_pred\n",
    "\n",
    "param_list = []\n",
    "neural_network(X, Y, 5, 0.1, param_list, 1000)\n",
    "\n",
    "final_prediction = predict(param_list[0], param_list[1], param_list[2], param_list[3], X_test)\n",
    "final_y = final_prediction.T\n",
    "print(\"y_pred:\",final_y)\n",
    "print(\"y:\",y_test_final)\n",
    "\n",
    "# Calculate accuracy on the test set\n",
    "accuracy = accuracy_score(y_test_final, final_y)\n",
    "print(f\"Accuracy: {accuracy * 100:.2f}%\")\n",
    "\n",
    "# Calculate F1 score on the test set\n",
    "f1 = f1_score(y_test_final, final_y)\n",
    "print(f\"F1 Score: {f1:.2f}\")\n",
    "\n",
    "# Generate and print confusion matrix\n",
    "conf_matrix = confusion_matrix(y_test_final, final_y)\n",
    "print(\"Confusion Matrix:\")\n",
    "print(conf_matrix)\n",
    "\n",
    "# Calculate precision\n",
    "precision = precision_score(y_test_final, final_y)\n",
    "print(\"Precision:\", precision)\n",
    "print(f\"Precision: {precision * 100:.2f}%\")\n",
    "\n",
    "recall = recall_score(y_test_final, final_y)\n",
    "print(\"Recall:\", recall)\n",
    "print(f\"Recall: {recall * 100:.2f}%\")"
   ]
  },
  {
   "cell_type": "code",
   "execution_count": 5,
   "metadata": {},
   "outputs": [
    {
     "name": "stdout",
     "output_type": "stream",
     "text": [
      "Number of 1s in the dataset: 25\n",
      "y_train_shape: (819,)\n",
      "final_y_ones: 0\n",
      "y_test_ones: 7\n",
      "Number of 1s in the dataset: 25\n",
      "y_train_shape: (819,)\n"
     ]
    },
    {
     "name": "stderr",
     "output_type": "stream",
     "text": [
      "C:\\Users\\anand\\AppData\\Roaming\\Python\\Python310\\site-packages\\sklearn\\metrics\\_classification.py:1318: UndefinedMetricWarning: Precision is ill-defined and being set to 0.0 due to no predicted samples. Use `zero_division` parameter to control this behavior.\n",
      "  _warn_prf(average, modifier, msg_start, len(result))\n"
     ]
    },
    {
     "name": "stdout",
     "output_type": "stream",
     "text": [
      "final_y_ones: 7\n",
      "y_test_ones: 7\n",
      "Number of 1s in the dataset: 26\n",
      "y_train_shape: (819,)\n",
      "final_y_ones: 3\n",
      "y_test_ones: 6\n",
      "Number of 1s in the dataset: 26\n",
      "y_train_shape: (819,)\n",
      "final_y_ones: 3\n",
      "y_test_ones: 6\n",
      "Number of 1s in the dataset: 26\n",
      "y_train_shape: (820,)\n",
      "final_y_ones: 6\n",
      "y_test_ones: 6\n",
      "accuracies: [0.9658536585365853, 1.0, 0.975609756097561, 0.975609756097561, 1.0]\n",
      "f1_scores: [0.0, 1.0, 0.4444444444444444, 0.4444444444444444, 1.0]\n",
      "precisions: [0.0, 1.0, 0.6666666666666666, 0.6666666666666666, 1.0]\n",
      "recalls: [0.0, 1.0, 0.3333333333333333, 0.3333333333333333, 1.0]\n",
      "Average Accuracy: 98.34%\n",
      "Average F1 Score: 0.58\n",
      "Average Confusion Matrix:\n",
      "[[198.    0.4]\n",
      " [  3.    3.4]]\n",
      "Average Precision: 66.67%\n",
      "Average Recall: 53.33%\n"
     ]
    },
    {
     "data": {
      "image/png": "[encoded data removed]",
      "text/plain": [
       "<Figure size 720x432 with 1 Axes>"
      ]
     },
     "metadata": {
      "needs_background": "light"
     },
     "output_type": "display_data"
    },
    {
     "data": {
      "image/png": "[encoded data removed]",
      "text/plain": [
       "<Figure size 432x288 with 1 Axes>"
      ]
     },
     "metadata": {
      "needs_background": "light"
     },
     "output_type": "display_data"
    }
   ],
   "source": [
    "import numpy as np\n",
    "import itertools\n",
    "import pandas as pd\n",
    "from sklearn.metrics import accuracy_score, f1_score, confusion_matrix, precision_score, recall_score\n",
    "from sklearn.model_selection import StratifiedKFold\n",
    "import matplotlib.pyplot as plt\n",
    "\n",
    "# Generating dataset\n",
    "digits = ['0', '1']  \n",
    "combinations = list(itertools.product(digits, repeat=10))  \n",
    "combinations = [''.join(combination) for combination in combinations]  \n",
    "df_final = pd.DataFrame({'combinations': combinations})  \n",
    "df_final['target'] = df_final['combinations'].apply(lambda x: 0 if x != x[::-1] else 1)  \n",
    "\n",
    "# Define features and target\n",
    "X = np.array([list(map(int, str(row))) for row in df_final['combinations']])\n",
    "y = df_final['target'].values\n",
    "\n",
    "# Neural Network code\n",
    "def sigmoid(z):\n",
    "    return 1 / (1 + np.exp(-z))\n",
    "\n",
    "def layer_sizes(X, Y):\n",
    "    n_x = X.shape[0]\n",
    "    n_h = 5\n",
    "    n_y = Y.shape[0]\n",
    "    return n_x, n_h, n_y\n",
    "\n",
    "def initialize_params(n_x, n_h, n_y):\n",
    "    W1 = np.random.randn(n_h, n_x) * 0.01\n",
    "    b1 = np.zeros((n_h, 1))\n",
    "    W2 = np.random.randn(n_y, n_h) * 0.01\n",
    "    b2 = np.zeros((n_y, 1))\n",
    "    return W1, b1, W2, b2\n",
    "\n",
    "def forward_propagation(X, W1, b1, W2, b2):\n",
    "    Z1 = np.dot(W1, X) + b1\n",
    "    A1 = sigmoid(Z1)\n",
    "    Z2 = np.dot(W2, A1) + b2\n",
    "    A2 = sigmoid(Z2)\n",
    "    return Z1, A1, Z2, A2\n",
    "\n",
    "def compute_cost(Y, A2):\n",
    "    m = Y.shape[1]\n",
    "    cost = (-1/m) * np.sum(np.multiply(Y, np.log(A2)) + np.multiply((1-Y), np.log(1-A2)))\n",
    "    cost = float(np.squeeze(cost))\n",
    "    return cost\n",
    "\n",
    "def backward_propagation(X, Y, W1, b1, W2, b2, Z1, A1, Z2, A2):\n",
    "    m = X.shape[0]  \n",
    "    dZ2 = A2 - Y\n",
    "    dW2 = (1/m) * np.dot(dZ2, A1.T)\n",
    "    db2 = (1/m) * np.sum(dZ2, axis=1, keepdims=True)\n",
    "    dZ1 = np.dot(W2.T, dZ2) * (A1 * (1 - A1))  # derivative of sigmoid\n",
    "    dW1 = (1/m) * np.dot(dZ1, X.T)\n",
    "    db1 = (1/m) * np.sum(dZ1, axis=1, keepdims=True)\n",
    "    return dW1, db1, dW2, db2\n",
    "\n",
    "def update_params(W1, b1, W2, b2, dW1, db1, dW2, db2, learning_rate):\n",
    "    W1 = W1 - learning_rate * dW1\n",
    "    b1 = b1 - learning_rate * db1\n",
    "    W2 = W2 - learning_rate * dW2\n",
    "    b2 = b2 - learning_rate * db2\n",
    "    return W1, b1, W2, b2\n",
    "\n",
    "def neural_network(X, Y, n_h, learning_rate, param_list, num_iterations=1000):\n",
    "    n_x = layer_sizes(X, Y)[0]\n",
    "    n_y = layer_sizes(X, Y)[2]\n",
    "    costs = []\n",
    "    W1, b1, W2, b2 = initialize_params(n_x, n_h, n_y)  \n",
    "    for i in range(num_iterations):  \n",
    "        Z1, A1, Z2, A2 = forward_propagation(X, W1, b1, W2, b2)\n",
    "        cost = compute_cost(Y, A2)\n",
    "        if i % 10 == 0:\n",
    "            costs.append(cost)\n",
    "        dW1, db1, dW2, db2 = backward_propagation(X, Y, W1, b1, W2, b2, Z1, A1, Z2, A2)\n",
    "        W1, b1, W2, b2 = update_params(W1, b1, W2, b2, dW1, db1, dW2, db2, learning_rate)\n",
    "    params_to_append = [W1, b1, W2, b2] \n",
    "    param_list += params_to_append\n",
    "    return param_list, costs\n",
    "\n",
    "def predict(W1, b1, W2, b2, X):\n",
    "    Z1, A1, Z2, A2 = forward_propagation(X, W1, b1, W2, b2)\n",
    "    m = X.shape[1]\n",
    "    y_pred = np.zeros((1, m))\n",
    "    for i in range(A2.shape[1]):\n",
    "        y_pred[0, i] = 1 if A2[0, i] >= 0.5 else 0\n",
    "    return y_pred\n",
    "\n",
    "# Initialize Stratified k-fold cross-validation\n",
    "skf = StratifiedKFold(n_splits=5, shuffle=True, random_state=42)\n",
    "\n",
    "# Lists to store evaluation metrics\n",
    "accuracies = []\n",
    "f1_scores = []\n",
    "conf_matrices = []\n",
    "precisions = []\n",
    "recalls = []\n",
    "train_losses = []\n",
    "\n",
    "# Perform cross-validation\n",
    "for train_index, test_index in skf.split(X, y):\n",
    "    X_train, X_test = X[train_index], X[test_index]\n",
    "    y_train, y_test = y[train_index], y[test_index]\n",
    "\n",
    "    num_ones = np.count_nonzero(y_train == 1)\n",
    "    print(\"Number of 1s in the dataset:\", num_ones)\n",
    "    print(\"y_train_shape:\",y_train.shape)\n",
    "\n",
    "    # Train model\n",
    "    param_list = []\n",
    "    _, costs = neural_network(X_train.T, y_train.reshape(1, -1), 3, 0.1, param_list, 2000)\n",
    "    train_losses.append(costs)\n",
    "\n",
    "    # Make predictions\n",
    "    final_prediction = predict(param_list[0], param_list[1], param_list[2], param_list[3], X_test.T)\n",
    "    final_y = final_prediction.T\n",
    "    print(\"final_y_ones:\",np.count_nonzero(final_y == 1))\n",
    "    print(\"y_test_ones:\",np.count_nonzero(y_test == 1))\n",
    "\n",
    "    # Calculate evaluation metrics\n",
    "    accuracy = accuracy_score(y_test, final_y)\n",
    "    f1 = f1_score(y_test, final_y)\n",
    "    conf_matrix = confusion_matrix(y_test, final_y)\n",
    "    precision = precision_score(y_test, final_y)\n",
    "    recall = recall_score(y_test, final_y)\n",
    "\n",
    "    # Append metrics to lists\n",
    "    accuracies.append(accuracy)\n",
    "    f1_scores.append(f1)\n",
    "    conf_matrices.append(conf_matrix)\n",
    "    precisions.append(precision)\n",
    "    recalls.append(recall)\n",
    "\n",
    "# Calculate average metrics\n",
    "print(\"accuracies:\",accuracies)\n",
    "print(\"f1_scores:\",f1_scores)\n",
    "print(\"precisions:\",precisions)\n",
    "print(\"recalls:\",recalls)\n",
    "avg_accuracy = np.mean(accuracies)\n",
    "avg_f1 = np.mean(f1_scores)\n",
    "avg_precision = np.mean(precisions)\n",
    "avg_recall = np.mean(recalls)\n",
    "\n",
    "# Print average metrics\n",
    "print(f\"Average Accuracy: {avg_accuracy * 100:.2f}%\")\n",
    "print(f\"Average F1 Score: {avg_f1:.2f}\")\n",
    "print(\"Average Confusion Matrix:\")\n",
    "print(np.mean(conf_matrices, axis=0))\n",
    "print(f\"Average Precision: {avg_precision * 100:.2f}%\")\n",
    "print(f\"Average Recall: {avg_recall * 100:.2f}%\")\n",
    "\n",
    "# Plot training curve\n",
    "plt.figure(figsize=(10, 6))\n",
    "for i, loss in enumerate(train_losses):\n",
    "    plt.plot(loss, label=f'Fold {i+1}')\n",
    "plt.xlabel('Iteration')\n",
    "plt.ylabel('Training Loss')\n",
    "plt.title('Training Curve')\n",
    "plt.legend()\n",
    "plt.show()\n",
    "\n",
    "# Plot accuracies\n",
    "plt.figure(figsize=(6, 4))\n",
    "plt.plot(accuracies, marker='o', linestyle='-')\n",
    "plt.xlabel('Fold')\n",
    "plt.ylabel('Accuracy')\n",
    "plt.title('Accuracy Across Folds')\n",
    "plt.xticks(range(len(accuracies)))\n",
    "plt.ylim(0, 1)\n",
    "plt.grid(True)\n",
    "plt.show()"
   ]
  },
  {
   "cell_type": "code",
   "execution_count": 7,
   "metadata": {},
   "outputs": [
    {
     "name": "stdout",
     "output_type": "stream",
     "text": [
      "[[0.]]\n"
     ]
    }
   ],
   "source": [
    "X_test_1 = np.array([[0],[1],[0],[0],[1],[0],[1],[0],[0],[0]])\n",
    "final_prediction = predict(param_list[0], param_list[1], param_list[2], param_list[3], X_test_1)\n",
    "print(final_prediction)"
   ]
  },
  {
   "cell_type": "markdown",
   "metadata": {},
   "source": [
    "## Manually splitting the dataset and perform backpropagation"
   ]
  },
  {
   "cell_type": "code",
   "execution_count": 447,
   "metadata": {},
   "outputs": [
    {
     "name": "stdout",
     "output_type": "stream",
     "text": [
      "     combinations  target\n",
      "0      0000000000       1\n",
      "1      0000000001       0\n",
      "2      0000000010       0\n",
      "3      0000000011       0\n",
      "4      0000000100       0\n",
      "...           ...     ...\n",
      "1019   1111111011       0\n",
      "1020   1111111100       0\n",
      "1021   1111111101       0\n",
      "1022   1111111110       0\n",
      "1023   1111111111       1\n",
      "\n",
      "[1024 rows x 2 columns]\n"
     ]
    }
   ],
   "source": [
    "import itertools\n",
    "import pandas as pd\n",
    "\n",
    "# Define the set of digits (0 and 1)\n",
    "digits = ['0', '1']\n",
    "\n",
    "# Generate all possible combinations\n",
    "combinations = list(itertools.product(digits, repeat=10))\n",
    "\n",
    "# Convert the tuples to strings for better readability\n",
    "combinations = [''.join(combination) for combination in combinations]\n",
    "\n",
    "# Create a DataFrame\n",
    "df_final = pd.DataFrame({'combinations': combinations})\n",
    "\n",
    "# Add a column for the target values (0 or 1)\n",
    "df_final['target'] = df_final['combinations'].apply(lambda x: 0 if x != x[::-1] else 1)\n",
    "\n",
    "# Print the DataFrame\n",
    "print(df_final)\n",
    "\n"
   ]
  },
  {
   "cell_type": "code",
   "execution_count": 451,
   "metadata": {},
   "outputs": [
    {
     "data": {
      "text/plain": [
       "32"
      ]
     },
     "execution_count": 451,
     "metadata": {},
     "output_type": "execute_result"
    }
   ],
   "source": [
    "num_ones = df_final['target'].sum()\n",
    "num_ones"
   ]
  },
  {
   "cell_type": "code",
   "execution_count": 212,
   "metadata": {},
   "outputs": [
    {
     "name": "stdout",
     "output_type": "stream",
     "text": [
      "Final sampled dataframe shape: (20, 2)\n",
      "Remaining rows dataframe shape: (1004, 2)\n"
     ]
    }
   ],
   "source": [
    "import pandas as pd\n",
    "\n",
    "# Randomly select 500 rows with target=1\n",
    "df_target_1_sampled = df_final[df_final['target'] == 1].sample(n=10, random_state=42)\n",
    "\n",
    "# Randomly select 500 rows with target=0\n",
    "df_target_0_sampled = df_final[df_final['target'] == 0].sample(n=10, random_state=42)\n",
    "\n",
    "# Combine the sampled dataframes\n",
    "final_sampled_dataframe = pd.concat([df_target_1_sampled, df_target_0_sampled])\n",
    "\n",
    "# Extract the indices of the sampled rows\n",
    "sampled_indices = final_sampled_dataframe.index\n",
    "\n",
    "# Create a dataframe with the remaining rows (not part of the sampled rows)\n",
    "df_remaining_rows = df_final[~df_final.index.isin(sampled_indices)]\n",
    "\n",
    "# Display the shapes of the final sampled dataframe and the dataframe with remaining rows\n",
    "print(\"Final sampled dataframe shape:\", final_sampled_dataframe.shape)\n",
    "print(\"Remaining rows dataframe shape:\", df_remaining_rows.shape)\n"
   ]
  },
  {
   "cell_type": "code",
   "execution_count": 213,
   "metadata": {},
   "outputs": [
    {
     "name": "stdout",
     "output_type": "stream",
     "text": [
      "    combinations  target\n",
      "951   1110110111       1\n",
      "110   0001101110       0\n",
      "552   1000101000       0\n",
      "510   0111111110       1\n",
      "390   0110000110       1\n"
     ]
    }
   ],
   "source": [
    "# Shuffle the rows in final_sampled_dataframe\n",
    "shuffled_final_sampled_dataframe = final_sampled_dataframe.sample(frac=1.0, random_state=42)\n",
    "\n",
    "# Display the first few rows of the shuffled dataframe\n",
    "print(shuffled_final_sampled_dataframe.head())"
   ]
  },
  {
   "cell_type": "code",
   "execution_count": 214,
   "metadata": {},
   "outputs": [
    {
     "data": {
      "text/html": [
       "<div>\n",
       "<style scoped>\n",
       "    .dataframe tbody tr th:only-of-type {\n",
       "        vertical-align: middle;\n",
       "    }\n",
       "\n",
       "    .dataframe tbody tr th {\n",
       "        vertical-align: top;\n",
       "    }\n",
       "\n",
       "    .dataframe thead th {\n",
       "        text-align: right;\n",
       "    }\n",
       "</style>\n",
       "<table border=\"1\" class=\"dataframe\">\n",
       "  <thead>\n",
       "    <tr style=\"text-align: right;\">\n",
       "      <th></th>\n",
       "      <th>combinations</th>\n",
       "      <th>target</th>\n",
       "    </tr>\n",
       "  </thead>\n",
       "  <tbody>\n",
       "    <tr>\n",
       "      <th>944</th>\n",
       "      <td>1110110000</td>\n",
       "      <td>0</td>\n",
       "    </tr>\n",
       "    <tr>\n",
       "      <th>646</th>\n",
       "      <td>1010000110</td>\n",
       "      <td>0</td>\n",
       "    </tr>\n",
       "    <tr>\n",
       "      <th>698</th>\n",
       "      <td>1010111010</td>\n",
       "      <td>0</td>\n",
       "    </tr>\n",
       "    <tr>\n",
       "      <th>528</th>\n",
       "      <td>1000010000</td>\n",
       "      <td>0</td>\n",
       "    </tr>\n",
       "    <tr>\n",
       "      <th>375</th>\n",
       "      <td>0101110111</td>\n",
       "      <td>0</td>\n",
       "    </tr>\n",
       "    <tr>\n",
       "      <th>...</th>\n",
       "      <td>...</td>\n",
       "      <td>...</td>\n",
       "    </tr>\n",
       "    <tr>\n",
       "      <th>109</th>\n",
       "      <td>0001101101</td>\n",
       "      <td>0</td>\n",
       "    </tr>\n",
       "    <tr>\n",
       "      <th>276</th>\n",
       "      <td>0100010100</td>\n",
       "      <td>0</td>\n",
       "    </tr>\n",
       "    <tr>\n",
       "      <th>878</th>\n",
       "      <td>1101101110</td>\n",
       "      <td>0</td>\n",
       "    </tr>\n",
       "    <tr>\n",
       "      <th>446</th>\n",
       "      <td>0110111110</td>\n",
       "      <td>0</td>\n",
       "    </tr>\n",
       "    <tr>\n",
       "      <th>105</th>\n",
       "      <td>0001101001</td>\n",
       "      <td>0</td>\n",
       "    </tr>\n",
       "  </tbody>\n",
       "</table>\n",
       "<p>1004 rows × 2 columns</p>\n",
       "</div>"
      ],
      "text/plain": [
       "    combinations  target\n",
       "944   1110110000       0\n",
       "646   1010000110       0\n",
       "698   1010111010       0\n",
       "528   1000010000       0\n",
       "375   0101110111       0\n",
       "..           ...     ...\n",
       "109   0001101101       0\n",
       "276   0100010100       0\n",
       "878   1101101110       0\n",
       "446   0110111110       0\n",
       "105   0001101001       0\n",
       "\n",
       "[1004 rows x 2 columns]"
      ]
     },
     "execution_count": 214,
     "metadata": {},
     "output_type": "execute_result"
    }
   ],
   "source": [
    "# Shuffle the values in df_remaining_rows\n",
    "df_remaining_rows_shuffled = df_remaining_rows.sample(frac=1, random_state=42)\n",
    "\n",
    "df_remaining_rows_shuffled"
   ]
  },
  {
   "cell_type": "code",
   "execution_count": 215,
   "metadata": {},
   "outputs": [
    {
     "data": {
      "text/html": [
       "<div>\n",
       "<style scoped>\n",
       "    .dataframe tbody tr th:only-of-type {\n",
       "        vertical-align: middle;\n",
       "    }\n",
       "\n",
       "    .dataframe tbody tr th {\n",
       "        vertical-align: top;\n",
       "    }\n",
       "\n",
       "    .dataframe thead th {\n",
       "        text-align: right;\n",
       "    }\n",
       "</style>\n",
       "<table border=\"1\" class=\"dataframe\">\n",
       "  <thead>\n",
       "    <tr style=\"text-align: right;\">\n",
       "      <th></th>\n",
       "      <th>combinations</th>\n",
       "      <th>target</th>\n",
       "    </tr>\n",
       "  </thead>\n",
       "  <tbody>\n",
       "    <tr>\n",
       "      <th>951</th>\n",
       "      <td>1110110111</td>\n",
       "      <td>1</td>\n",
       "    </tr>\n",
       "    <tr>\n",
       "      <th>110</th>\n",
       "      <td>0001101110</td>\n",
       "      <td>0</td>\n",
       "    </tr>\n",
       "    <tr>\n",
       "      <th>552</th>\n",
       "      <td>1000101000</td>\n",
       "      <td>0</td>\n",
       "    </tr>\n",
       "    <tr>\n",
       "      <th>510</th>\n",
       "      <td>0111111110</td>\n",
       "      <td>1</td>\n",
       "    </tr>\n",
       "    <tr>\n",
       "      <th>390</th>\n",
       "      <td>0110000110</td>\n",
       "      <td>1</td>\n",
       "    </tr>\n",
       "    <tr>\n",
       "      <th>306</th>\n",
       "      <td>0100110010</td>\n",
       "      <td>1</td>\n",
       "    </tr>\n",
       "    <tr>\n",
       "      <th>342</th>\n",
       "      <td>0101010110</td>\n",
       "      <td>0</td>\n",
       "    </tr>\n",
       "    <tr>\n",
       "      <th>561</th>\n",
       "      <td>1000110001</td>\n",
       "      <td>1</td>\n",
       "    </tr>\n",
       "    <tr>\n",
       "      <th>61</th>\n",
       "      <td>0000111101</td>\n",
       "      <td>0</td>\n",
       "    </tr>\n",
       "    <tr>\n",
       "      <th>289</th>\n",
       "      <td>0100100001</td>\n",
       "      <td>0</td>\n",
       "    </tr>\n",
       "    <tr>\n",
       "      <th>319</th>\n",
       "      <td>0100111111</td>\n",
       "      <td>0</td>\n",
       "    </tr>\n",
       "    <tr>\n",
       "      <th>771</th>\n",
       "      <td>1100000011</td>\n",
       "      <td>1</td>\n",
       "    </tr>\n",
       "    <tr>\n",
       "      <th>0</th>\n",
       "      <td>0000000000</td>\n",
       "      <td>1</td>\n",
       "    </tr>\n",
       "    <tr>\n",
       "      <th>523</th>\n",
       "      <td>1000001011</td>\n",
       "      <td>0</td>\n",
       "    </tr>\n",
       "    <tr>\n",
       "      <th>258</th>\n",
       "      <td>0100000010</td>\n",
       "      <td>1</td>\n",
       "    </tr>\n",
       "    <tr>\n",
       "      <th>518</th>\n",
       "      <td>1000000110</td>\n",
       "      <td>0</td>\n",
       "    </tr>\n",
       "    <tr>\n",
       "      <th>819</th>\n",
       "      <td>1100110011</td>\n",
       "      <td>1</td>\n",
       "    </tr>\n",
       "    <tr>\n",
       "      <th>220</th>\n",
       "      <td>0011011100</td>\n",
       "      <td>0</td>\n",
       "    </tr>\n",
       "    <tr>\n",
       "      <th>91</th>\n",
       "      <td>0001011011</td>\n",
       "      <td>0</td>\n",
       "    </tr>\n",
       "    <tr>\n",
       "      <th>975</th>\n",
       "      <td>1111001111</td>\n",
       "      <td>1</td>\n",
       "    </tr>\n",
       "  </tbody>\n",
       "</table>\n",
       "</div>"
      ],
      "text/plain": [
       "    combinations  target\n",
       "951   1110110111       1\n",
       "110   0001101110       0\n",
       "552   1000101000       0\n",
       "510   0111111110       1\n",
       "390   0110000110       1\n",
       "306   0100110010       1\n",
       "342   0101010110       0\n",
       "561   1000110001       1\n",
       "61    0000111101       0\n",
       "289   0100100001       0\n",
       "319   0100111111       0\n",
       "771   1100000011       1\n",
       "0     0000000000       1\n",
       "523   1000001011       0\n",
       "258   0100000010       1\n",
       "518   1000000110       0\n",
       "819   1100110011       1\n",
       "220   0011011100       0\n",
       "91    0001011011       0\n",
       "975   1111001111       1"
      ]
     },
     "execution_count": 215,
     "metadata": {},
     "output_type": "execute_result"
    }
   ],
   "source": [
    "shuffled_final_sampled_dataframe"
   ]
  },
  {
   "cell_type": "code",
   "execution_count": 216,
   "metadata": {},
   "outputs": [
    {
     "name": "stdout",
     "output_type": "stream",
     "text": [
      "X_train shape: (1004, 1) y_train shape: (1004,)\n",
      "X_test shape: (20, 1) y_test shape: (20,)\n"
     ]
    }
   ],
   "source": [
    "# Assuming df_remaining_rows and final_sampled_dataframe are the dataframes from the previous code\n",
    "\n",
    "# Extract features and target from df_remaining_rows\n",
    "X_train = df_remaining_rows_shuffled.drop('target', axis=1)\n",
    "y_train_final = df_remaining_rows_shuffled['target']\n",
    "\n",
    "# Extract features and target from final_sampled_dataframe\n",
    "X_test = shuffled_final_sampled_dataframe.drop('target', axis=1)\n",
    "y_test_final = shuffled_final_sampled_dataframe['target']\n",
    "\n",
    "# Display the shapes of the extracted sets\n",
    "print(\"X_train shape:\", X_train.shape, \"y_train shape:\", y_train_final.shape)\n",
    "print(\"X_test shape:\", X_test.shape, \"y_test shape:\", y_test_final.shape)\n"
   ]
  },
  {
   "cell_type": "code",
   "execution_count": 217,
   "metadata": {},
   "outputs": [
    {
     "data": {
      "text/html": [
       "<div>\n",
       "<style scoped>\n",
       "    .dataframe tbody tr th:only-of-type {\n",
       "        vertical-align: middle;\n",
       "    }\n",
       "\n",
       "    .dataframe tbody tr th {\n",
       "        vertical-align: top;\n",
       "    }\n",
       "\n",
       "    .dataframe thead th {\n",
       "        text-align: right;\n",
       "    }\n",
       "</style>\n",
       "<table border=\"1\" class=\"dataframe\">\n",
       "  <thead>\n",
       "    <tr style=\"text-align: right;\">\n",
       "      <th></th>\n",
       "      <th>combinations</th>\n",
       "    </tr>\n",
       "  </thead>\n",
       "  <tbody>\n",
       "    <tr>\n",
       "      <th>944</th>\n",
       "      <td>1110110000</td>\n",
       "    </tr>\n",
       "    <tr>\n",
       "      <th>646</th>\n",
       "      <td>1010000110</td>\n",
       "    </tr>\n",
       "    <tr>\n",
       "      <th>698</th>\n",
       "      <td>1010111010</td>\n",
       "    </tr>\n",
       "    <tr>\n",
       "      <th>528</th>\n",
       "      <td>1000010000</td>\n",
       "    </tr>\n",
       "    <tr>\n",
       "      <th>375</th>\n",
       "      <td>0101110111</td>\n",
       "    </tr>\n",
       "    <tr>\n",
       "      <th>...</th>\n",
       "      <td>...</td>\n",
       "    </tr>\n",
       "    <tr>\n",
       "      <th>109</th>\n",
       "      <td>0001101101</td>\n",
       "    </tr>\n",
       "    <tr>\n",
       "      <th>276</th>\n",
       "      <td>0100010100</td>\n",
       "    </tr>\n",
       "    <tr>\n",
       "      <th>878</th>\n",
       "      <td>1101101110</td>\n",
       "    </tr>\n",
       "    <tr>\n",
       "      <th>446</th>\n",
       "      <td>0110111110</td>\n",
       "    </tr>\n",
       "    <tr>\n",
       "      <th>105</th>\n",
       "      <td>0001101001</td>\n",
       "    </tr>\n",
       "  </tbody>\n",
       "</table>\n",
       "<p>1004 rows × 1 columns</p>\n",
       "</div>"
      ],
      "text/plain": [
       "    combinations\n",
       "944   1110110000\n",
       "646   1010000110\n",
       "698   1010111010\n",
       "528   1000010000\n",
       "375   0101110111\n",
       "..           ...\n",
       "109   0001101101\n",
       "276   0100010100\n",
       "878   1101101110\n",
       "446   0110111110\n",
       "105   0001101001\n",
       "\n",
       "[1004 rows x 1 columns]"
      ]
     },
     "execution_count": 217,
     "metadata": {},
     "output_type": "execute_result"
    }
   ],
   "source": [
    "X_train"
   ]
  },
  {
   "cell_type": "code",
   "execution_count": 218,
   "metadata": {},
   "outputs": [
    {
     "data": {
      "text/plain": [
       "944    0\n",
       "646    0\n",
       "698    0\n",
       "528    0\n",
       "375    0\n",
       "      ..\n",
       "109    0\n",
       "276    0\n",
       "878    0\n",
       "446    0\n",
       "105    0\n",
       "Name: target, Length: 1004, dtype: int64"
      ]
     },
     "execution_count": 218,
     "metadata": {},
     "output_type": "execute_result"
    }
   ],
   "source": [
    "y_train_final"
   ]
  },
  {
   "cell_type": "code",
   "execution_count": 219,
   "metadata": {},
   "outputs": [
    {
     "name": "stdout",
     "output_type": "stream",
     "text": [
      "(20, 10)\n"
     ]
    }
   ],
   "source": [
    "X_train_final = np.array([list(map(int, str(row))) for row in X_train['combinations']])\n",
    "X_test_final = np.array([list(map(int, str(row))) for row in X_test['combinations']])\n",
    "\n",
    "# Check the shape\n",
    "print(X_test_final.shape)  # Output: (1004, 10)"
   ]
  },
  {
   "cell_type": "code",
   "execution_count": 220,
   "metadata": {},
   "outputs": [
    {
     "data": {
      "text/plain": [
       "array([[1, 1, 1, ..., 0, 0, 0],\n",
       "       [1, 0, 1, ..., 1, 1, 0],\n",
       "       [1, 0, 1, ..., 0, 1, 0],\n",
       "       ...,\n",
       "       [1, 1, 0, ..., 1, 1, 0],\n",
       "       [0, 1, 1, ..., 1, 1, 0],\n",
       "       [0, 0, 0, ..., 0, 0, 1]])"
      ]
     },
     "execution_count": 220,
     "metadata": {},
     "output_type": "execute_result"
    }
   ],
   "source": [
    "X_train_final"
   ]
  },
  {
   "cell_type": "code",
   "execution_count": 221,
   "metadata": {},
   "outputs": [
    {
     "data": {
      "text/plain": [
       "1004"
      ]
     },
     "execution_count": 221,
     "metadata": {},
     "output_type": "execute_result"
    }
   ],
   "source": [
    "X_train_final.shape[0]"
   ]
  },
  {
   "cell_type": "code",
   "execution_count": 222,
   "metadata": {},
   "outputs": [
    {
     "name": "stdout",
     "output_type": "stream",
     "text": [
      "(20, 1)\n"
     ]
    }
   ],
   "source": [
    "# Convert to 2D array\n",
    "y_train_final = y_train_final.values.reshape(-1, 1)  # Using values attribute and reshape\n",
    "y_test_final = y_test_final.values.reshape(-1, 1)  # Using values attribute and reshape\n",
    "\n",
    "\n",
    "# Print the shape of the resulting array\n",
    "print(y_test_final.shape)"
   ]
  },
  {
   "cell_type": "code",
   "execution_count": 223,
   "metadata": {},
   "outputs": [
    {
     "data": {
      "text/plain": [
       "array([[0],\n",
       "       [0],\n",
       "       [0],\n",
       "       ...,\n",
       "       [0],\n",
       "       [0],\n",
       "       [0]], dtype=int64)"
      ]
     },
     "execution_count": 223,
     "metadata": {},
     "output_type": "execute_result"
    }
   ],
   "source": [
    "y_train_final"
   ]
  },
  {
   "cell_type": "code",
   "execution_count": 224,
   "metadata": {},
   "outputs": [
    {
     "data": {
      "text/plain": [
       "numpy.ndarray"
      ]
     },
     "execution_count": 224,
     "metadata": {},
     "output_type": "execute_result"
    }
   ],
   "source": [
    "type(y_train_final)"
   ]
  },
  {
   "cell_type": "code",
   "execution_count": 225,
   "metadata": {},
   "outputs": [
    {
     "data": {
      "text/plain": [
       "1004"
      ]
     },
     "execution_count": 225,
     "metadata": {},
     "output_type": "execute_result"
    }
   ],
   "source": [
    "y_train_final.shape[0]"
   ]
  },
  {
   "cell_type": "code",
   "execution_count": 226,
   "metadata": {},
   "outputs": [
    {
     "name": "stdout",
     "output_type": "stream",
     "text": [
      "(10, 1004)\n",
      "(1, 1004)\n"
     ]
    }
   ],
   "source": [
    "X = X_train_final.T\n",
    "Y = y_train_final.reshape(1, len(y_train_final))\n",
    "\n",
    "print(X.shape)\n",
    "print(Y.shape)"
   ]
  },
  {
   "cell_type": "code",
   "execution_count": 293,
   "metadata": {},
   "outputs": [],
   "source": [
    "import numpy as np\n",
    "import pandas as pd\n",
    "\n",
    "def sigmoid(z):\n",
    "    sigmoid = 1 / (1 + np.exp(-z))\n",
    "    return sigmoid\n",
    "\n",
    "def tanh(z):\n",
    "    tan = (np.exp(z) - np.exp(-z)) / (np.exp(z) + np.exp(-z))\n",
    "    return tan\n",
    "\n",
    "def layer_sizes(X, Y):\n",
    "    n_x = X.shape[0]\n",
    "    n_h = 5\n",
    "    n_y = Y.shape[0]\n",
    "\n",
    "    return n_x, n_h, n_y\n",
    "\n",
    "def initialize_params(n_x, n_h, n_y):\n",
    "\n",
    "    W1 = np.random.randn(n_h, n_x) * 0.01\n",
    "    b1 = np.zeros((n_h, 1))\n",
    "    W2 = np.random.randn(n_y, n_h) * 0.01\n",
    "    b2 = np.zeros((n_y, 1))\n",
    "\n",
    "    return W1, b1, W2, b2\n",
    "\n",
    "def forward_propagation(X, W1, b1, W2, b2):\n",
    "    \n",
    "    Z1 = np.dot(W1, X) + b1\n",
    "    A1 = tanh(Z1)\n",
    "    Z2 = np.dot(W2, A1) + b2\n",
    "    A2 = sigmoid(Z2)\n",
    "\n",
    "    return Z1, A1, Z2, A2\n",
    "\n",
    "def compute_cost(Y, A2):\n",
    "\n",
    "    m = Y.shape[1]\n",
    "    cost = (-1/m) * np.sum(np.multiply(Y ,np.log(A2)) + np.multiply((1-Y), np.log(1-A2)))\n",
    "    cost = float(np.squeeze(cost))\n",
    "    return cost\n",
    "\n",
    "def backward_propagation(X, Y, W1, b1, W2, b2, Z1, A1, Z2, A2):\n",
    "    \n",
    "    m = X.shape[0] # Number of training examples\n",
    "\n",
    "    dZ2 = A2 - Y\n",
    "    dW2 = (1/m) * np.dot(dZ2, A1.T)\n",
    "    db2 = (1/m) * (np.sum(dZ2, axis = 1, keepdims = True))\n",
    "    \n",
    "    dZ1 = np.dot(W2.T, dZ2) * (1 - np.power(A1, 2))\n",
    "    dW1 = (1/m) * (np.dot(dZ1, X.T))\n",
    "    db1 = (1/m) * (np.sum(dZ1, axis = 1, keepdims = True))\n",
    "    \n",
    "    return dW1, db1, dW2, db2\n",
    "\n",
    "def update_params(W1, b1, W2, b2, dW1, db1, dW2, db2, learning_rate):\n",
    "\n",
    "    W1 = W1 - learning_rate * dW1\n",
    "    b1 = b1 - learning_rate * db1\n",
    "    W2 = W2 - learning_rate * dW2\n",
    "    b2 = b2 - learning_rate * db2\n",
    "\n",
    "    return W1, b1, W2, b2\n",
    "\n",
    "def neural_network(X, Y, n_h, learning_rate,param_list, num_iterations = 1000):\n",
    "    n_x = layer_sizes(X, Y)[0]\n",
    "    n_y = layer_sizes(X, Y)[2]\n",
    "    costs = []\n",
    "    # Initialize parameters\n",
    "    W1, b1, W2, b2 = initialize_params(n_x, n_h, n_y)\n",
    "\n",
    "    \n",
    "    # Loop (gradient descent)\n",
    "    for i in range(0, num_iterations):\n",
    "        Z1, A1, Z2, A2 = forward_propagation(X, W1, b1, W2, b2)\n",
    "        cost = compute_cost(Y, A2)\n",
    "        if i % 10 == 0:\n",
    "            costs.append(cost)\n",
    "        dW1, db1, dW2, db2 = backward_propagation(X, Y, W1, b1, W2, b2, Z1, A1, Z2, A2)\n",
    "        W1, b1, W2, b2 = update_params(W1, b1, W2, b2, dW1, db1, dW2, db2, learning_rate)\n",
    "        \n",
    "    params_to_append = [W1,b1,W2,b2] \n",
    "    param_list += params_to_append\n",
    "    return param_list, costs"
   ]
  },
  {
   "cell_type": "code",
   "execution_count": 406,
   "metadata": {},
   "outputs": [
    {
     "data": {
      "text/plain": [
       "([array([[ 0.76207697,  2.28557819,  1.40359269, -1.40882403,  0.28326989,\n",
       "          -0.30482446,  1.488074  , -0.32096213,  1.75763597, -0.77955669],\n",
       "         [ 0.63850363,  0.21862061, -2.75861261,  1.29167773,  0.31298239,\n",
       "          -0.34433463,  1.98098418, -3.17526681,  1.03738592, -0.66709019],\n",
       "         [ 2.00151387, -5.43224335,  1.6064584 , -2.4667495 , -0.21669178,\n",
       "           0.20369718,  2.39941614, -1.56819849, -5.04059559, -2.01086294],\n",
       "         [ 2.35283323, -0.26190417, -1.99871369,  4.17025146, -2.86328103,\n",
       "           2.8832425 , -4.27549952,  2.45508875,  0.40226649, -2.33226441],\n",
       "         [ 5.68065103, -1.38935915,  0.57805217,  0.43292817, -2.97397262,\n",
       "           2.94223604, -0.31273804, -0.96581212,  0.99196538, -5.70147505]]),\n",
       "  array([[-4.40655304],\n",
       "         [-3.7799057 ],\n",
       "         [ 1.00235453],\n",
       "         [ 1.1988689 ],\n",
       "         [-1.37144705]]),\n",
       "  array([[ 5.82669857,  4.60957543,  6.2607946 ,  6.21004007, -7.46375778]]),\n",
       "  array([[-3.85762103]])],\n",
       " [0.6930693440017014,\n",
       "  0.10518709376098449,\n",
       "  0.10457196298752364,\n",
       "  0.10369777759973414,\n",
       "  0.10282048750489779,\n",
       "  0.10236341980400504,\n",
       "  0.10220100629996008,\n",
       "  0.10212314252953492,\n",
       "  0.10204837535089355,\n",
       "  0.101939969417909,\n",
       "  0.10176009931238295,\n",
       "  0.10147732721576219,\n",
       "  0.10106381662716969,\n",
       "  0.10046535833498356,\n",
       "  0.09965286480745518,\n",
       "  0.09871324358141792,\n",
       "  0.09777129563979212,\n",
       "  0.0968491951043092,\n",
       "  0.09588681292581483,\n",
       "  0.09481250060442163,\n",
       "  0.09358166991561799,\n",
       "  0.09218577449237857,\n",
       "  0.09065880230284645,\n",
       "  0.08905734709519376,\n",
       "  0.08747308254438865,\n",
       "  0.0900768770681387,\n",
       "  0.08811944591180469,\n",
       "  0.08682763624782405,\n",
       "  0.08555186205441012,\n",
       "  0.08433769946517002,\n",
       "  0.08318695496790378,\n",
       "  0.08205862464188661,\n",
       "  0.08087213025511415,\n",
       "  0.07951682508566392,\n",
       "  0.07789120485555666,\n",
       "  0.0759604716412676,\n",
       "  0.07377186232776393,\n",
       "  0.071417592223712,\n",
       "  0.06898976771106564,\n",
       "  0.0665503643998985,\n",
       "  0.06412731263736561,\n",
       "  0.06172390083103911,\n",
       "  0.059328087765584236,\n",
       "  0.05691915207324466,\n",
       "  0.05447242419536546,\n",
       "  0.051963344842861796,\n",
       "  0.049374685057495926,\n",
       "  0.046710999819571164,\n",
       "  0.04401173216425989,\n",
       "  0.04134708503950062,\n",
       "  0.0388074157961253,\n",
       "  0.03650785687511172,\n",
       "  0.034584161794151365,\n",
       "  0.03313040449912059,\n",
       "  0.0320369686430607,\n",
       "  0.030853448959501466,\n",
       "  0.02946723490936962,\n",
       "  0.027987378588766324,\n",
       "  0.02527420041248463,\n",
       "  0.026231123055761127,\n",
       "  0.050074776900132345,\n",
       "  0.01485897054365962,\n",
       "  0.012659273789039202,\n",
       "  0.011446566843987408,\n",
       "  0.010593450027713799,\n",
       "  0.010803300325208305,\n",
       "  0.0765482812888065,\n",
       "  0.011562954735956903,\n",
       "  0.009503259207483145,\n",
       "  0.008601810870935568,\n",
       "  0.007985405115864246,\n",
       "  0.007484103023078892,\n",
       "  0.007050308206033419,\n",
       "  0.00666528608451587,\n",
       "  0.006319215766523207,\n",
       "  0.006005690897065852,\n",
       "  0.005719957105556304,\n",
       "  0.005458257021038254,\n",
       "  0.005217530821488065,\n",
       "  0.004995244904688118,\n",
       "  0.0047892766266693166,\n",
       "  0.004597830008529095,\n",
       "  0.004419371890135315,\n",
       "  0.004252582880438403,\n",
       "  0.004096319396552725,\n",
       "  0.0039495841020918115,\n",
       "  0.003811502729151149,\n",
       "  0.003681305764153378,\n",
       "  0.003558313849375623,\n",
       "  0.0034419260259103547,\n",
       "  0.003331610140869877,\n",
       "  0.003226894881299758,\n",
       "  0.003127362998096797,\n",
       "  0.0030326453624226757,\n",
       "  0.0029424155692695073,\n",
       "  0.002856384878091119,\n",
       "  0.0027742973623760187,\n",
       "  0.002695925224812628,\n",
       "  0.002621064312116224,\n",
       "  0.002549529920931619])"
      ]
     },
     "execution_count": 406,
     "metadata": {},
     "output_type": "execute_result"
    }
   ],
   "source": [
    "param_list = []\n",
    "neural_network(X,Y,5,0.1,param_list,1000)"
   ]
  },
  {
   "cell_type": "code",
   "execution_count": 407,
   "metadata": {},
   "outputs": [
    {
     "data": {
      "text/plain": [
       "(5, 10)"
      ]
     },
     "execution_count": 407,
     "metadata": {},
     "output_type": "execute_result"
    }
   ],
   "source": [
    "param_list[0].shape"
   ]
  },
  {
   "cell_type": "code",
   "execution_count": 408,
   "metadata": {},
   "outputs": [
    {
     "data": {
      "text/plain": [
       "(5, 1)"
      ]
     },
     "execution_count": 408,
     "metadata": {},
     "output_type": "execute_result"
    }
   ],
   "source": [
    "param_list[1].shape"
   ]
  },
  {
   "cell_type": "code",
   "execution_count": 409,
   "metadata": {},
   "outputs": [
    {
     "data": {
      "text/plain": [
       "(1, 5)"
      ]
     },
     "execution_count": 409,
     "metadata": {},
     "output_type": "execute_result"
    }
   ],
   "source": [
    "param_list[2].shape"
   ]
  },
  {
   "cell_type": "code",
   "execution_count": 410,
   "metadata": {},
   "outputs": [
    {
     "data": {
      "text/plain": [
       "(1, 1)"
      ]
     },
     "execution_count": 410,
     "metadata": {},
     "output_type": "execute_result"
    }
   ],
   "source": [
    "param_list[3].shape"
   ]
  },
  {
   "cell_type": "code",
   "execution_count": 411,
   "metadata": {},
   "outputs": [],
   "source": [
    "def predict(W1, b1, W2, b2, X):\n",
    "\n",
    "    Z1, A1, Z2, A2 = forward_propagation(X, W1, b1, W2, b2)\n",
    "\n",
    "    m = X.shape[1]\n",
    "    y_pred = np.zeros((1, m))\n",
    "    for i in range(A2.shape[1]):\n",
    "        if A2[0, i] >= 0.5:\n",
    "            y_pred[0, i] = 1\n",
    "        else:\n",
    "            y_pred[0, i] = 0\n",
    "\n",
    "    return y_pred"
   ]
  },
  {
   "cell_type": "code",
   "execution_count": 412,
   "metadata": {},
   "outputs": [
    {
     "data": {
      "text/plain": [
       "1004"
      ]
     },
     "execution_count": 412,
     "metadata": {},
     "output_type": "execute_result"
    }
   ],
   "source": [
    "X.shape[1]"
   ]
  },
  {
   "cell_type": "code",
   "execution_count": 413,
   "metadata": {},
   "outputs": [
    {
     "name": "stdout",
     "output_type": "stream",
     "text": [
      "(10, 20)\n",
      "(1, 20)\n"
     ]
    }
   ],
   "source": [
    "X_test = X_test_final.T\n",
    "Y_test = y_test_final.reshape(1, len(y_test_final))\n",
    "\n",
    "print(X_test.shape)\n",
    "print(Y_test.shape)"
   ]
  },
  {
   "cell_type": "code",
   "execution_count": 414,
   "metadata": {},
   "outputs": [],
   "source": [
    "final_prediction = predict(param_list[0],param_list[1],param_list[2],param_list[3],X_test,)\n",
    "final_y = final_prediction.T\n",
    "final_y.shape"
   ]
  },
  {
   "cell_type": "code",
   "execution_count": 415,
   "metadata": {},
   "outputs": [
    {
     "data": {
      "text/plain": [
       "(20, 1)"
      ]
     },
     "execution_count": 415,
     "metadata": {},
     "output_type": "execute_result"
    }
   ],
   "source": [
    "final_y = final_prediction.T\n",
    "final_y.shape"
   ]
  },
  {
   "cell_type": "code",
   "execution_count": 416,
   "metadata": {},
   "outputs": [
    {
     "data": {
      "text/plain": [
       "(20, 1)"
      ]
     },
     "execution_count": 416,
     "metadata": {},
     "output_type": "execute_result"
    }
   ],
   "source": [
    "y_test_final.shape"
   ]
  },
  {
   "cell_type": "code",
   "execution_count": 417,
   "metadata": {},
   "outputs": [
    {
     "name": "stdout",
     "output_type": "stream",
     "text": [
      "Accuracy: 80.00%\n"
     ]
    }
   ],
   "source": [
    "from sklearn.metrics import accuracy_score, f1_score, roc_auc_score, confusion_matrix,precision_score\n",
    "# Calculate accuracy on the test set\n",
    "accuracy = accuracy_score(y_test_final, final_y)\n",
    "print(f\"Accuracy: {accuracy * 100:.2f}%\")\n"
   ]
  },
  {
   "cell_type": "code",
   "execution_count": 418,
   "metadata": {},
   "outputs": [
    {
     "name": "stdout",
     "output_type": "stream",
     "text": [
      "F1 Score: 0.75\n",
      "Confusion Matrix:\n",
      "[[10  0]\n",
      " [ 4  6]]\n"
     ]
    }
   ],
   "source": [
    "# Calculate accuracy on the test set\n",
    "accuracy = accuracy_score(y_test_final, final_y)\n",
    "print(f\"Accuracy: {accuracy * 100:.2f}%\")\n",
    "\n",
    "# Calculate F1 score on the test set\n",
    "f1 = f1_score(y_test_final, final_y)\n",
    "print(f\"F1 Score: {f1:.2f}\")\n",
    "\n",
    "# Generate and print confusion matrix\n",
    "conf_matrix = confusion_matrix(y_test_final, final_y)\n",
    "print(\"Confusion Matrix:\")\n",
    "print(conf_matrix)\n",
    "\n",
    "\n",
    "# Assuming y_test_final and final_y are your true labels and predicted labels respectively\n",
    "precision = precision_score(y_test_final, final_y)\n",
    "\n",
    "print(\"Precision:\", precision)\n",
    "print(f\"Precision: {precision * 100:.2f}%\")"
   ]
  },
  {
   "cell_type": "code",
   "execution_count": 419,
   "metadata": {},
   "outputs": [
    {
     "name": "stdout",
     "output_type": "stream",
     "text": [
      "Precision: 1.0\n",
      "Precision: 100.00%\n"
     ]
    }
   ],
   "source": [
    "# Assuming y_test_final and final_y are your true labels and predicted labels respectively\n",
    "precision = precision_score(y_test_final, final_y)\n",
    "\n",
    "print(\"Precision:\", precision)\n",
    "print(f\"Precision: {precision * 100:.2f}%\")"
   ]
  }
 ],
 "metadata": {
  "kernelspec": {
   "display_name": "myenv",
   "language": "python",
   "name": "python3"
  },
  "language_info": {
   "codemirror_mode": {
    "name": "ipython",
    "version": 3
   },
   "file_extension": ".py",
   "mimetype": "text/x-python",
   "name": "python",
   "nbconvert_exporter": "python",
   "pygments_lexer": "ipython3",
   "version": "3.10.4"
  }
 },
 "nbformat": 4,
 "nbformat_minor": 2
}
